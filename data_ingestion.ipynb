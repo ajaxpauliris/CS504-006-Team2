{
 "cells": [
  {
   "cell_type": "code",
   "execution_count": 9,
   "metadata": {},
   "outputs": [],
   "source": [
    "import pandas as pd\n",
    "import os "
   ]
  },
  {
   "cell_type": "code",
   "execution_count": null,
   "metadata": {},
   "outputs": [
    {
     "name": "stdout",
     "output_type": "stream",
     "text": [
      "--- USSTHPI-quarterly.csv ---\n",
      "  observation_date  USSTHPI\n",
      "0       2006-01-01   368.62\n",
      "1       2006-04-01   372.39\n",
      "2       2006-07-01   375.45\n",
      "3       2006-10-01   379.30\n",
      "4       2007-01-01   380.72\n",
      "--- GDPC1-quarterly.csv ---\n",
      "  observation_date      GDPC1\n",
      "0       2006-01-01  16353.835\n",
      "1       2006-04-01  16396.151\n",
      "2       2006-07-01  16420.738\n",
      "3       2006-10-01  16561.866\n",
      "4       2007-01-01  16611.690\n",
      "--- T10Y3M.csv ---\n",
      "  observation_date  T10Y3M\n",
      "0       2006-01-03    0.21\n",
      "1       2006-01-04    0.17\n",
      "2       2006-01-05    0.16\n",
      "3       2006-01-06    0.16\n",
      "4       2006-01-09    0.15\n",
      "--- USRECQ-quarterly.csv ---\n",
      "  observation_date  USRECQ\n",
      "0       2006-01-01       0\n",
      "1       2006-04-01       0\n",
      "2       2006-07-01       0\n",
      "3       2006-10-01       0\n",
      "4       2007-01-01       0\n",
      "--- HOUST.csv ---\n",
      "  observation_date  HOUST\n",
      "0       2006-01-01   2273\n",
      "1       2006-02-01   2119\n",
      "2       2006-03-01   1969\n",
      "3       2006-04-01   1821\n",
      "4       2006-05-01   1942\n",
      "--- MSACSRNSA.csv ---\n",
      "  observation_date  MSACSRNSA\n",
      "0       2006-01-01        5.9\n",
      "1       2006-02-01        6.1\n",
      "2       2006-03-01        5.1\n",
      "3       2006-04-01        5.6\n",
      "4       2006-05-01        5.5\n",
      "--- FEDFUNDS.csv ---\n",
      "  observation_date  FEDFUNDS\n",
      "0       2006-01-01      4.29\n",
      "1       2006-02-01      4.49\n",
      "2       2006-03-01      4.59\n",
      "3       2006-04-01      4.79\n",
      "4       2006-05-01      4.94\n",
      "--- PCEPI.csv ---\n",
      "  observation_date   PCEPI\n",
      "0       2006-01-01  83.534\n",
      "1       2006-02-01  83.584\n",
      "2       2006-03-01  83.746\n",
      "3       2006-04-01  84.135\n",
      "4       2006-05-01  84.361\n"
     ]
    }
   ],
   "source": [
    "folder_path = '/Users/AnhHuynh/Documents/CS504-006-Team2/data'  # Replace with your path\n",
    "csv_files = [f for f in os.listdir(folder_path) if f.endswith('.csv')]\n",
    "\n",
    "\n",
    "for file in csv_files:\n",
    "    file_path = os.path.join(folder_path, file)\n",
    "    df = pd.read_csv(file_path)\n",
    "    print(f\"--- {file} ---\")\n",
    "    print(df.head())  # Do whatever you need with each df"
   ]
  },
  {
   "cell_type": "code",
   "execution_count": null,
   "metadata": {},
   "outputs": [],
   "source": [
    "\n",
    "\n",
    "\n",
    "\n",
    "\n"
   ]
  }
 ],
 "metadata": {
  "kernelspec": {
   "display_name": "Python 3",
   "language": "python",
   "name": "python3"
  },
  "language_info": {
   "codemirror_mode": {
    "name": "ipython",
    "version": 3
   },
   "file_extension": ".py",
   "mimetype": "text/x-python",
   "name": "python",
   "nbconvert_exporter": "python",
   "pygments_lexer": "ipython3",
   "version": "3.9.12"
  }
 },
 "nbformat": 4,
 "nbformat_minor": 2
}
